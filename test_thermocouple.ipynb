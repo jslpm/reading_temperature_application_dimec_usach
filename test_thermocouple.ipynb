{
 "cells": [
  {
   "cell_type": "code",
   "execution_count": 3,
   "id": "6ebcd229-3b69-443c-ad64-e25c97b13892",
   "metadata": {},
   "outputs": [],
   "source": [
    "import nidaqmx\n",
    "import numpy as np\n",
    "import matplotlib.pyplot as plt"
   ]
  },
  {
   "cell_type": "code",
   "execution_count": 8,
   "id": "9adc35d4-3dbe-4536-bb20-d46736cdedee",
   "metadata": {},
   "outputs": [
    {
     "name": "stdout",
     "output_type": "stream",
     "text": [
      "<nidaqmx.system.system.System object at 0x7fd6378c93d0>\n",
      "Device(name=cDAQ1)\n",
      "Device(name=cDAQ1Mod1)\n",
      "Device(name=cDAQ1Mod8)\n"
     ]
    }
   ],
   "source": [
    "# check for device\n",
    "system = nidaqmx.system.System.local()\n",
    "print(system)\n",
    "\n",
    "for device in system.devices:\n",
    "    print(device)"
   ]
  },
  {
   "cell_type": "code",
   "execution_count": 9,
   "id": "f3f11c75-a865-4b86-8e87-f776a7aed7e4",
   "metadata": {},
   "outputs": [
    {
     "name": "stdout",
     "output_type": "stream",
     "text": [
      "23.500195288225477\n"
     ]
    }
   ],
   "source": [
    "# Read value once in module 8 - ch0\n",
    "with nidaqmx.Task() as task:\n",
    "    task.ai_channels.add_ai_thrmcpl_chan('cDAQ1Mod8/ai0')\n",
    "    print(task.read())"
   ]
  },
  {
   "cell_type": "code",
   "execution_count": null,
   "id": "33ef4739-1bec-4c48-a7bf-1c0e4bca5d62",
   "metadata": {},
   "outputs": [],
   "source": []
  }
 ],
 "metadata": {
  "kernelspec": {
   "display_name": "Python 3 (ipykernel)",
   "language": "python",
   "name": "python3"
  },
  "language_info": {
   "codemirror_mode": {
    "name": "ipython",
    "version": 3
   },
   "file_extension": ".py",
   "mimetype": "text/x-python",
   "name": "python",
   "nbconvert_exporter": "python",
   "pygments_lexer": "ipython3",
   "version": "3.8.10"
  }
 },
 "nbformat": 4,
 "nbformat_minor": 5
}
