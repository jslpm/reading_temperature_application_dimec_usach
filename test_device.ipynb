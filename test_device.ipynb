{
 "cells": [
  {
   "cell_type": "code",
   "execution_count": 64,
   "id": "270dbec0-1991-4669-98bc-c9774f3538cf",
   "metadata": {},
   "outputs": [],
   "source": [
    "import nidaqmx\n",
    "import collections.abc"
   ]
  },
  {
   "cell_type": "code",
   "execution_count": 65,
   "id": "66069dc4-6fec-495c-937d-3a5c72bb27b5",
   "metadata": {},
   "outputs": [
    {
     "data": {
      "text/plain": [
       "DriverVersion(major_version=22, minor_version=8, update_version=0)"
      ]
     },
     "execution_count": 65,
     "metadata": {},
     "output_type": "execute_result"
    }
   ],
   "source": [
    "system = nidaqmx.system.System.local()\n",
    "system.driver_version"
   ]
  },
  {
   "cell_type": "code",
   "execution_count": 66,
   "id": "751daf81-ae94-4540-971e-2de4faed36a8",
   "metadata": {},
   "outputs": [
    {
     "name": "stdout",
     "output_type": "stream",
     "text": [
      "Device(name=cDAQ1)\n",
      "Device(name=cDAQ2)\n",
      "Device(name=cDAQ1Mod1)\n",
      "Device(name=cDAQ1Mod8)\n",
      "Device(name=cDAQ2Mod1)\n"
     ]
    }
   ],
   "source": [
    "for device in system.devices:\n",
    "    print(device)"
   ]
  },
  {
   "cell_type": "code",
   "execution_count": 51,
   "id": "7141aca6-a390-48b9-a8fc-0ac6e41f2c0b",
   "metadata": {},
   "outputs": [
    {
     "data": {
      "text/plain": [
       "True"
      ]
     },
     "execution_count": 51,
     "metadata": {},
     "output_type": "execute_result"
    }
   ],
   "source": [
    "isinstance(system.devices, collections.Sequence)"
   ]
  },
  {
   "cell_type": "code",
   "execution_count": 52,
   "id": "f48db6bd-aa67-4b26-96ab-045a96cab9e1",
   "metadata": {},
   "outputs": [
    {
     "data": {
      "text/plain": [
       "Device(name=cDAQ1Mod1)"
      ]
     },
     "execution_count": 52,
     "metadata": {},
     "output_type": "execute_result"
    }
   ],
   "source": [
    "device = nidaqmx.system.Device('cDAQ1Mod1')\n",
    "device"
   ]
  },
  {
   "cell_type": "code",
   "execution_count": 58,
   "id": "eb0f0bba-6611-4979-80df-6bf72982637a",
   "metadata": {},
   "outputs": [
    {
     "name": "stdout",
     "output_type": "stream",
     "text": [
      "PhysicalChannel(name=cDAQ1Mod1/ai0)\n",
      "PhysicalChannel(name=cDAQ1Mod1/ai1)\n",
      "PhysicalChannel(name=cDAQ1Mod1/ai2)\n",
      "PhysicalChannel(name=cDAQ1Mod1/ai3)\n"
     ]
    }
   ],
   "source": [
    "for ch in device.ai_physical_chans:\n",
    "    print(ch)"
   ]
  },
  {
   "cell_type": "code",
   "execution_count": 54,
   "id": "4c81cb03-708c-4ef3-8012-4a0b9b824419",
   "metadata": {},
   "outputs": [
    {
     "data": {
      "text/plain": [
       "[<UsageTypeAI.RESISTANCE: 10278>, <UsageTypeAI.TEMPERATURE_RTD: 10301>]"
      ]
     },
     "execution_count": 54,
     "metadata": {},
     "output_type": "execute_result"
    }
   ],
   "source": [
    "nidaqmx.system.device.Device('cDAQ1Mod1').ai_meas_types"
   ]
  },
  {
   "cell_type": "code",
   "execution_count": 55,
   "id": "53c292da-f538-4055-87ce-30240f854869",
   "metadata": {},
   "outputs": [
    {
     "name": "stdout",
     "output_type": "stream",
     "text": [
      "PhysicalChannel(name=cDAQ1Mod1/ai0)\n",
      "PhysicalChannel(name=cDAQ1Mod1/ai1)\n",
      "PhysicalChannel(name=cDAQ1Mod1/ai2)\n",
      "PhysicalChannel(name=cDAQ1Mod1/ai3)\n"
     ]
    }
   ],
   "source": [
    "phys_channs =nidaqmx.system.device.Device('cDAQ1Mod1').ai_physical_chans\n",
    "for ch in phys_channs:\n",
    "    print(ch)"
   ]
  },
  {
   "cell_type": "code",
   "execution_count": 56,
   "id": "75a01346-2205-473a-96c5-573d4cecca54",
   "metadata": {},
   "outputs": [
    {
     "data": {
      "text/plain": [
       "[<UsageTypeAI.CURRENT: 10134>,\n",
       " <UsageTypeAI.RESISTANCE: 10278>,\n",
       " <UsageTypeAI.STRAIN_STRAIN_GAGE: 10300>,\n",
       " <UsageTypeAI.TEMPERATURE_RTD: 10301>,\n",
       " <UsageTypeAI.TEMPERATURE_THERMISTOR: 10302>,\n",
       " <UsageTypeAI.TEMPERATURE_THERMOCOUPLE: 10303>,\n",
       " <UsageTypeAI.TEMPERATURE_BUILT_IN_SENSOR: 10311>,\n",
       " <UsageTypeAI.VOLTAGE: 10322>,\n",
       " <UsageTypeAI.VOLTAGE_CUSTOM_WITH_EXCITATION: 10323>,\n",
       " <UsageTypeAI.ROSETTE_STRAIN_GAGE: 15980>]"
      ]
     },
     "execution_count": 56,
     "metadata": {},
     "output_type": "execute_result"
    }
   ],
   "source": [
    "daq.system.device.Device('cDAQ1Mod8').ai_meas_types"
   ]
  },
  {
   "cell_type": "code",
   "execution_count": 57,
   "id": "7bdd01ef-c667-4429-b9e2-cbc5fcfa2ae0",
   "metadata": {},
   "outputs": [
    {
     "name": "stdout",
     "output_type": "stream",
     "text": [
      "PhysicalChannel(name=cDAQ1Mod8/ai0)\n",
      "PhysicalChannel(name=cDAQ1Mod8/ai1)\n",
      "PhysicalChannel(name=cDAQ1Mod8/ai2)\n",
      "PhysicalChannel(name=cDAQ1Mod8/ai3)\n",
      "PhysicalChannel(name=cDAQ1Mod8/ai4)\n",
      "PhysicalChannel(name=cDAQ1Mod8/ai5)\n",
      "PhysicalChannel(name=cDAQ1Mod8/ai6)\n",
      "PhysicalChannel(name=cDAQ1Mod8/ai7)\n",
      "PhysicalChannel(name=cDAQ1Mod8/ai8)\n",
      "PhysicalChannel(name=cDAQ1Mod8/ai9)\n",
      "PhysicalChannel(name=cDAQ1Mod8/ai10)\n",
      "PhysicalChannel(name=cDAQ1Mod8/ai11)\n",
      "PhysicalChannel(name=cDAQ1Mod8/ai12)\n",
      "PhysicalChannel(name=cDAQ1Mod8/ai13)\n",
      "PhysicalChannel(name=cDAQ1Mod8/ai14)\n",
      "PhysicalChannel(name=cDAQ1Mod8/ai15)\n"
     ]
    }
   ],
   "source": [
    "phys_channs =nidaqmx.system.device.Device('cDAQ1Mod8').ai_physical_chans\n",
    "for ch in phys_channs:\n",
    "    print(ch)"
   ]
  },
  {
   "cell_type": "code",
   "execution_count": 60,
   "id": "39d5b3d9-6623-447d-9a69-a6ecec2080a2",
   "metadata": {},
   "outputs": [
    {
     "name": "stdout",
     "output_type": "stream",
     "text": [
      "23.476051106220744\n"
     ]
    }
   ],
   "source": [
    "with nidaqmx.Task() as task:\n",
    "    task.ai_channels.add_ai_thrmcpl_chan('cDAQ1Mod8/ai0')\n",
    "    print(task.read())"
   ]
  },
  {
   "cell_type": "code",
   "execution_count": 47,
   "id": "dc0f78d4-5390-4cad-9c62-1de128403d2e",
   "metadata": {},
   "outputs": [
    {
     "name": "stdout",
     "output_type": "stream",
     "text": [
      "1376.3406897764316\n",
      "1376.3385528623276\n",
      "1376.3449636218074\n",
      "1376.3406897764316\n",
      "1376.341580158989\n",
      "1376.3362378785241\n",
      "1376.339977471086\n",
      "1376.3335667517158\n",
      "1376.34104592933\n",
      "1376.341224005847\n"
     ]
    }
   ],
   "source": [
    "num_samples = 10\n",
    "with nidaqmx.Task() as task:\n",
    "    task.ai_channels.add_ai_thrmcpl_chan('cDAQ1Mod8/ai0')\n",
    "    meas = task.read(number_of_samples_per_channel=num_samples)\n",
    "\n",
    "for m in meas:\n",
    "    print(m)"
   ]
  }
 ],
 "metadata": {
  "kernelspec": {
   "display_name": "Python 3 (ipykernel)",
   "language": "python",
   "name": "python3"
  },
  "language_info": {
   "codemirror_mode": {
    "name": "ipython",
    "version": 3
   },
   "file_extension": ".py",
   "mimetype": "text/x-python",
   "name": "python",
   "nbconvert_exporter": "python",
   "pygments_lexer": "ipython3",
   "version": "3.8.10"
  }
 },
 "nbformat": 4,
 "nbformat_minor": 5
}
